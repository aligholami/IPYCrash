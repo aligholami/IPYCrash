{
 "cells": [
  {
   "cell_type": "markdown",
   "metadata": {},
   "source": [
    "# Numpy.\n",
    "#### `Vector Processors`\n",
    "\n",
    "##### History\n",
    "Vector processing development began in the early 1960s at Westinghouse in their \"Solomon\" project. Solomon's goal was to dramatically increase math performance by using a large number of `simple math co-processors` under the control of a `single master CPU`. The CPU fed a **single** common instruction to **all** of the arithmetic logic units (ALUs), one per cycle, but with a different data point for each one to work on. This allowed the Solomon machine to apply a single algorithm to a large data set, fed in the form of an array.\n",
    "\n",
    "##### Modern Processors (Addition of Vector A to Vector B)\n",
    "The processor is fed instructions that say not just to add A to B, but to add all of the numbers \"from here to here\" to all of the numbers \"from there to there\". Instead of constantly having to decode instructions and then fetch the data needed to complete them, the processor reads a single instruction from memory, and it is simply implied in the definition of the instruction itself that the instruction will operate again on another item of data, at an address one increment larger than the last. This allows for significant savings in decoding time. This is how `Numpy` works from a low level perspective. Such processors are called `Single Instruction Multiple Data` or `SIMD`, which is present in almost all of today's CPUs."
   ]
  }
 ],
 "metadata": {
  "kernelspec": {
   "display_name": "Python 3",
   "language": "python",
   "name": "python3"
  },
  "language_info": {
   "codemirror_mode": {
    "name": "ipython",
    "version": 3
   },
   "file_extension": ".py",
   "mimetype": "text/x-python",
   "name": "python",
   "nbconvert_exporter": "python",
   "pygments_lexer": "ipython3",
   "version": "3.6.8"
  }
 },
 "nbformat": 4,
 "nbformat_minor": 2
}
