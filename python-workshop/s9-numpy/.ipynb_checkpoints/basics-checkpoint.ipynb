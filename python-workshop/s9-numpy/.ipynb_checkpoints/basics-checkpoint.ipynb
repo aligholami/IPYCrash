{
 "cells": [
  {
   "cell_type": "markdown",
   "metadata": {},
   "source": [
    "# Numpy.\n",
    "#### `Vector Processors`\n",
    "\n",
    "##### History\n",
    "Vector processing development began in the early 1960s at Westinghouse in their \"Solomon\" project. Solomon's goal was to dramatically increase math performance by using a large number of `simple math co-processors` under the control of a `single master CPU`. The CPU fed a **single** common instruction to **all** of the arithmetic logic units (ALUs), one per cycle, but with a different data point for each one to work on. This allowed the Solomon machine to apply a single algorithm to a large data set, fed in the form of an array.\n",
    "\n",
    "##### Modern Processors (Addition of Vector A to Vector B)\n",
    "The processor is fed instructions that say not just to add A to B, but to add all of the numbers \"from here to here\" to all of the numbers \"from there to there\". Instead of constantly having to decode instructions and then fetch the data needed to complete them, the processor reads a single instruction from memory, and it is simply implied in the definition of the instruction itself that the instruction will operate again on another item of data, at an address one increment larger than the last. This allows for significant savings in decoding time. This is how `Numpy` works from a low level perspective. Such processors are called `Single Instruction Multiple Data` or `SIMD`, which is present in almost all of today's CPUs.\n",
    "\n",
    "##### Example\n",
    "consider the simple task of `adding two groups of 10 numbers` together. In a normal programming language one would write a \"loop\" that picked up each of the pairs of numbers in turn, and then added them."
   ]
  },
  {
   "cell_type": "code",
   "execution_count": 2,
   "metadata": {},
   "outputs": [
    {
     "name": "stdout",
     "output_type": "stream",
     "text": [
      "Took 1.8955111503601074 seconds. \n"
     ]
    }
   ],
   "source": [
    "import time\n",
    "\n",
    "ten_million = 10000000\n",
    "a = list(range(ten_million))\n",
    "b = list(reversed(range(ten_million)))\n",
    "c = []\n",
    "\n",
    "start_time = time.time()\n",
    "\n",
    "for i in range(ten_million):\n",
    "    c.append(a[i] + b[i])\n",
    "\n",
    "print(\"Took {} seconds. \".format(time.time() - start_time))"
   ]
  },
  {
   "cell_type": "markdown",
   "metadata": {},
   "source": [
    "To the CPU, this would look something like this:"
   ]
  },
  {
   "cell_type": "markdown",
   "metadata": {},
   "source": [
    "```\n",
    "execute this loop 10,000,000 times\n",
    "  read the next instruction and decode it\n",
    "  fetch this number\n",
    "  fetch that number\n",
    "  add them\n",
    "  put the result here\n",
    "end loop\n",
    "```"
   ]
  },
  {
   "cell_type": "markdown",
   "metadata": {},
   "source": [
    "Now let's write the exact same code in Numpy (vector commands):"
   ]
  },
  {
   "cell_type": "code",
   "execution_count": 3,
   "metadata": {},
   "outputs": [
    {
     "name": "stdout",
     "output_type": "stream",
     "text": [
      "Took 0.15397024154663086 seconds. \n"
     ]
    }
   ],
   "source": [
    "import numpy as np\n",
    "\n",
    "a = np.array(list(range(ten_million)))\n",
    "b = np.array(list(reversed(range(ten_million))))\n",
    "\n",
    "start_time = time.time()\n",
    "\n",
    "# Vector addition\n",
    "c = np.add(a, b)\n",
    "\n",
    "print(\"Took {} seconds. \".format(time.time() - start_time))"
   ]
  }
 ],
 "metadata": {
  "kernelspec": {
   "display_name": "Python 3",
   "language": "python",
   "name": "python3"
  },
  "language_info": {
   "codemirror_mode": {
    "name": "ipython",
    "version": 3
   },
   "file_extension": ".py",
   "mimetype": "text/x-python",
   "name": "python",
   "nbconvert_exporter": "python",
   "pygments_lexer": "ipython3",
   "version": "3.6.8"
  }
 },
 "nbformat": 4,
 "nbformat_minor": 2
}
