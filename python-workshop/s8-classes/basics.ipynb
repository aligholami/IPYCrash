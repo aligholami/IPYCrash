{
 "cells": [
  {
   "cell_type": "markdown",
   "metadata": {
    "colab_type": "text",
    "id": "myuto5sFNP0S"
   },
   "source": [
    "# Classes.\n",
    "Classes are used to define any entity with certain attributes and behaviors. Classes encapsulate `variables` and `methods` in a single entity.\n",
    "Classes follow Python's block structure and are defined using the `class` keyword.\n",
    "```\n",
    "class Organization:\n",
    "    name = 'IPM'\n",
    "```\n",
    "A `class object` can be created by `instantiating` from a class:\n",
    "```\n",
    "    obj_1 = Organization()\n",
    "    obj_2 = Organization()\n",
    "```\n",
    "Classes like these are quite boring. We can use `__init__()` function to initialize variables inside a class, everytime an object is created. `self` represents the current instance of the class (which is running). `self` is required as the first argument in all methods inside a class."
   ]
  },
  {
   "cell_type": "code",
   "execution_count": 0,
   "metadata": {
    "colab": {},
    "colab_type": "code",
    "id": "ubgKwNWBNP0U",
    "outputId": "7a495b28-43fa-4bff-cb69-4146ac10768a"
   },
   "outputs": [
    {
     "name": "stdout",
     "output_type": "stream",
     "text": [
      "IPM\n",
      "Sharif\n"
     ]
    }
   ],
   "source": [
    "class Organization:\n",
    "    def __init__(self, name):\n",
    "        self.name = name\n",
    "        \n",
    "ipm_obj = Organization('IPM')\n",
    "sharif_obj = Organization('Sharif')\n",
    "print(ipm_obj.name)\n",
    "print(sharif_obj.name)"
   ]
  },
  {
   "cell_type": "markdown",
   "metadata": {
    "colab_type": "text",
    "id": "BBNMHup9NUTp"
   },
   "source": [
    "#### `Note about Self`\n",
    "When calling methods, you do not need to pass `self` as a parameter, **Python** does that for you automatically.\n",
    "\n",
    "#### `Essential Denotations`\n",
    "There are a number of essential denotations (keywords) associated with Python classes:\n",
    "1. `Encapsulation` is where similar functions and variables are all grouped together.\n",
    "2. Classes, variables, lists and more are all `objects`.\n",
    "3. Variables inside of classes are known as `attributes` of the class.\n",
    "4. Functions inside any object type are known as `methods`."
   ]
  },
  {
   "cell_type": "markdown",
   "metadata": {
    "colab_type": "text",
    "id": "5nLbZtjIO-Gu"
   },
   "source": [
    "#### `Inheritance`\n",
    "Inheritance in Python allows you to define a class which is based on another existing class. The new class inherits all the methods and attributes from the `parent` class, and also allows `extra` methods to be defined."
   ]
  },
  {
   "cell_type": "code",
   "execution_count": 1,
   "metadata": {
    "colab": {
     "base_uri": "https://localhost:8080/",
     "height": 51
    },
    "colab_type": "code",
    "executionInfo": {
     "elapsed": 856,
     "status": "ok",
     "timestamp": 1564915908223,
     "user": {
      "displayName": "",
      "photoUrl": "",
      "userId": ""
     },
     "user_tz": -270
    },
    "id": "womfBciYPT0h",
    "outputId": "adad1905-2ccc-4287-bd88-26ba214f5ff2"
   },
   "outputs": [
    {
     "name": "stdout",
     "output_type": "stream",
     "text": [
      "12\n",
      "9\n"
     ]
    }
   ],
   "source": [
    "# Parent class Shape\n",
    "class Shape:\n",
    "  def __init__(self, x, y):\n",
    "    self.x = x\n",
    "    self.y = y\n",
    "    \n",
    "  def get_area(self):\n",
    "    return self.x * self.y\n",
    "  \n",
    "# Inherited class Square\n",
    "class Square (Shape):\n",
    "  def __init__(self, x):\n",
    "    self.x = x\n",
    "    self.y = x\n",
    "    \n",
    "  def get_perimeter(self):\n",
    "    return self.x * 4\n",
    "  \n",
    "\n",
    "sq = Square(3)\n",
    "print(sq.get_perimeter())\n",
    "print(sq.get_area())"
   ]
  },
  {
   "cell_type": "code",
   "execution_count": 2,
   "metadata": {
    "colab": {
     "base_uri": "https://localhost:8080/",
     "height": 68
    },
    "colab_type": "code",
    "executionInfo": {
     "elapsed": 746,
     "status": "ok",
     "timestamp": 1564915917053,
     "user": {
      "displayName": "",
      "photoUrl": "",
      "userId": ""
     },
     "user_tz": -270
    },
    "id": "DbXlusFtQO0p",
    "outputId": "5c3aa346-ccc1-4b1a-8713-d7113f0a8362"
   },
   "outputs": [
    {
     "name": "stdout",
     "output_type": "stream",
     "text": [
      "True\n",
      "True\n",
      "True\n"
     ]
    }
   ],
   "source": [
    "# To check relationships\n",
    "print(isinstance(sq, Square))\n",
    "print(isinstance(sq, Shape))\n",
    "print(issubclass(Square, Shape))"
   ]
  },
  {
   "cell_type": "markdown",
   "metadata": {},
   "source": [
    "#### `Method Overriding`\n",
    "`Overriding` is to write a function in a child class, with exactly the same `name` and `parameter set` as in parent class, but with a different (customized) functionality."
   ]
  },
  {
   "cell_type": "code",
   "execution_count": 2,
   "metadata": {},
   "outputs": [
    {
     "name": "stdout",
     "output_type": "stream",
     "text": [
      "I am an animal.\n"
     ]
    }
   ],
   "source": [
    "# Parent class\n",
    "class Animal:\n",
    "    def identify(self):\n",
    "        print(\"I am an animal.\")\n",
    "        \n",
    "# Child class\n",
    "class Bird(Animal):\n",
    "    def identify(self):\n",
    "        print(\"I am a bird.\")\n",
    "        \n",
    "# Animal instance\n",
    "animal_obj = Animal()\n",
    "animal_obj.identify()"
   ]
  },
  {
   "cell_type": "code",
   "execution_count": 4,
   "metadata": {},
   "outputs": [
    {
     "name": "stdout",
     "output_type": "stream",
     "text": [
      "I am a bird.\n"
     ]
    }
   ],
   "source": [
    "# Bird instance\n",
    "bird_obj = Bird()\n",
    "bird_obj.identify()"
   ]
  },
  {
   "cell_type": "markdown",
   "metadata": {},
   "source": [
    "#### *Note*\n",
    "To keep the same functionality as in parent class, and adding a slight change (customization) as well, we can use `super()` to access the parent object."
   ]
  },
  {
   "cell_type": "code",
   "execution_count": null,
   "metadata": {},
   "outputs": [],
   "source": [
    "class Bird(Animal):\n",
    "    def identify(self):\n",
    "        # Call identify from parent first\n",
    "        super().identify()\n",
    "        print(\"I am a bird.\")\n",
    "        \n",
    "# Bird instance\n",
    "bird_obj = Bird()\n",
    "bird_obj.identify()"
   ]
  },
  {
   "cell_type": "markdown",
   "metadata": {},
   "source": [
    "#### `Class Variables vs Instance Variables`\n",
    "* `Class Variables`: Are the same among all class instances.\n",
    "* `Instance Variables`: Can be customized based on class definition and developer needs."
   ]
  },
  {
   "cell_type": "code",
   "execution_count": 10,
   "metadata": {},
   "outputs": [
    {
     "name": "stdout",
     "output_type": "stream",
     "text": [
      "Institute for Research in Fundamental Sciences\n",
      "Institute for Research in Fundamental Sciences\n"
     ]
    }
   ],
   "source": [
    "class SummerSchool:\n",
    "    # Class variable\n",
    "    school_name = 'Institute for Research in Fundamental Sciences'\n",
    "    \n",
    "    def __init__(self, topic_of_discussion):\n",
    "        self.topic_of_discussion = topic_of_discussion\n",
    "    \n",
    "ss_python_workshop = SummerSchool('python-workshop')\n",
    "ss_machine_learning = SummerSchool('machine-learning')\n",
    "\n",
    "# Class variables are the same\n",
    "print(ss_python_workshop.school_name)\n",
    "print(ss_machine_learning.school_name)"
   ]
  },
  {
   "cell_type": "code",
   "execution_count": 11,
   "metadata": {},
   "outputs": [
    {
     "name": "stdout",
     "output_type": "stream",
     "text": [
      "python-workshop\n",
      "machine-learning\n"
     ]
    }
   ],
   "source": [
    "# Instance variables differ\n",
    "print(ss_python_workshop.topic_of_discussion)\n",
    "print(ss_machine_learning.topic_of_discussion)"
   ]
  },
  {
   "cell_type": "markdown",
   "metadata": {},
   "source": [
    "#### `Private Variables`\n",
    "Really `private` instance variables (variables that can't be accessed except from within the object) `do not exist` in Python. However, the following naming convention makes Python `rename` the variable. So it becomes pseudo-private. All you need to do is to put `__` at the beginning of the `private` variable."
   ]
  },
  {
   "cell_type": "code",
   "execution_count": 14,
   "metadata": {},
   "outputs": [
    {
     "ename": "AttributeError",
     "evalue": "'IPM' object has no attribute 'postal_code'",
     "output_type": "error",
     "traceback": [
      "\u001b[0;31m---------------------------------------------------------------------------\u001b[0m",
      "\u001b[0;31mAttributeError\u001b[0m                            Traceback (most recent call last)",
      "\u001b[0;32m<ipython-input-14-827f158e4248>\u001b[0m in \u001b[0;36m<module>\u001b[0;34m\u001b[0m\n\u001b[1;32m      9\u001b[0m \u001b[0;34m\u001b[0m\u001b[0m\n\u001b[1;32m     10\u001b[0m \u001b[0;31m# postal_code can't be accessed directly\u001b[0m\u001b[0;34m\u001b[0m\u001b[0;34m\u001b[0m\u001b[0;34m\u001b[0m\u001b[0m\n\u001b[0;32m---> 11\u001b[0;31m \u001b[0mprint\u001b[0m\u001b[0;34m(\u001b[0m\u001b[0mipm_obj\u001b[0m\u001b[0;34m.\u001b[0m\u001b[0mpostal_code\u001b[0m\u001b[0;34m)\u001b[0m\u001b[0;34m\u001b[0m\u001b[0;34m\u001b[0m\u001b[0m\n\u001b[0m",
      "\u001b[0;31mAttributeError\u001b[0m: 'IPM' object has no attribute 'postal_code'"
     ]
    }
   ],
   "source": [
    "class IPM:\n",
    "    def __init__(self):\n",
    "        self.__postal_code = 1727289301\n",
    "        \n",
    "    def get_postal_code(self):\n",
    "        return self.__postal_code\n",
    "    \n",
    "ipm_obj = IPM()\n",
    "\n",
    "# postal_code can't be accessed directly\n",
    "print(ipm_obj.postal_code)"
   ]
  },
  {
   "cell_type": "code",
   "execution_count": 15,
   "metadata": {},
   "outputs": [
    {
     "ename": "AttributeError",
     "evalue": "'IPM' object has no attribute '__postal_code'",
     "output_type": "error",
     "traceback": [
      "\u001b[0;31m---------------------------------------------------------------------------\u001b[0m",
      "\u001b[0;31mAttributeError\u001b[0m                            Traceback (most recent call last)",
      "\u001b[0;32m<ipython-input-15-4b6769bcc409>\u001b[0m in \u001b[0;36m<module>\u001b[0;34m\u001b[0m\n\u001b[0;32m----> 1\u001b[0;31m \u001b[0mprint\u001b[0m\u001b[0;34m(\u001b[0m\u001b[0mipm_obj\u001b[0m\u001b[0;34m.\u001b[0m\u001b[0m__postal_code\u001b[0m\u001b[0;34m)\u001b[0m\u001b[0;34m\u001b[0m\u001b[0;34m\u001b[0m\u001b[0m\n\u001b[0m",
      "\u001b[0;31mAttributeError\u001b[0m: 'IPM' object has no attribute '__postal_code'"
     ]
    }
   ],
   "source": [
    "print(ipm_obj.__postal_code)"
   ]
  },
  {
   "cell_type": "code",
   "execution_count": 16,
   "metadata": {},
   "outputs": [
    {
     "name": "stdout",
     "output_type": "stream",
     "text": [
      "1727289301\n"
     ]
    }
   ],
   "source": [
    "# But it can be accessed from within the class\n",
    "print(ipm_obj.get_postal_code())"
   ]
  }
 ],
 "metadata": {
  "colab": {
   "name": "Copy of basics.ipynb",
   "provenance": [
    {
     "file_id": "https://github.com/aligholami/IPM-SS-2019/blob/master/python-workshop/s8-classes/basics.ipynb",
     "timestamp": 1564916263402
    }
   ],
   "version": "0.3.2"
  },
  "kernelspec": {
   "display_name": "Python 3",
   "language": "python",
   "name": "python3"
  },
  "language_info": {
   "codemirror_mode": {
    "name": "ipython",
    "version": 3
   },
   "file_extension": ".py",
   "mimetype": "text/x-python",
   "name": "python",
   "nbconvert_exporter": "python",
   "pygments_lexer": "ipython3",
   "version": "3.6.8"
  }
 },
 "nbformat": 4,
 "nbformat_minor": 1
}
