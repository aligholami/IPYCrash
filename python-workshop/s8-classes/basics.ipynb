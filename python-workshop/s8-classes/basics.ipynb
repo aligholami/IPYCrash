{
 "cells": [
  {
   "cell_type": "markdown",
   "metadata": {
    "colab_type": "text",
    "id": "myuto5sFNP0S"
   },
   "source": [
    "# Classes.\n",
    "Classes are used to define any entity with certain attributes and behaviors. Classes encapsulate `variables` and `methods` in a single entity.\n",
    "Classes follow Python's block structure and are defined using the `class` keyword.\n",
    "```\n",
    "class Organization:\n",
    "    name = 'IPM'\n",
    "```\n",
    "A `class object` can be created by `instantiating` from a class:\n",
    "```\n",
    "    obj_1 = Organization()\n",
    "    obj_2 = Organization()\n",
    "```\n",
    "Classes like these are quite boring. We can use `__init__()` function to initialize variables inside a class, everytime an object is created. `self` represents the current instance of the class (which is running). `self` is required as the first argument in all methods inside a class."
   ]
  },
  {
   "cell_type": "code",
   "execution_count": 0,
   "metadata": {
    "colab": {},
    "colab_type": "code",
    "id": "ubgKwNWBNP0U",
    "outputId": "7a495b28-43fa-4bff-cb69-4146ac10768a"
   },
   "outputs": [
    {
     "name": "stdout",
     "output_type": "stream",
     "text": [
      "IPM\n",
      "Sharif\n"
     ]
    }
   ],
   "source": [
    "class Organization:\n",
    "    def __init__(self, name):\n",
    "        self.name = name\n",
    "        \n",
    "ipm_obj = Organization('IPM')\n",
    "sharif_obj = Organization('Sharif')\n",
    "print(ipm_obj.name)\n",
    "print(sharif_obj.name)"
   ]
  },
  {
   "cell_type": "markdown",
   "metadata": {
    "colab_type": "text",
    "id": "BBNMHup9NUTp"
   },
   "source": [
    "#### `Note about Self`\n",
    "When calling methods, you do not need to pass `self` as a parameter, **Python** does that for you automatically.\n",
    "\n",
    "#### `Essential Denotations`\n",
    "There are a number of essential denotations (keywords) associated with Python classes:\n",
    "1. `Encapsulation` is where similar functions and variables are all grouped together.\n",
    "2. Classes, variables, lists and more are all `objects`.\n",
    "3. Variables inside of classes are known as `attributes` of the class.\n",
    "4. Functions inside any object type are known as `methods`."
   ]
  },
  {
   "cell_type": "markdown",
   "metadata": {
    "colab_type": "text",
    "id": "5nLbZtjIO-Gu"
   },
   "source": [
    "#### `Inheritance`\n",
    "Inheritance in Python allows you to define a class which is based on another existing class. The new class inherits all the methods and attributes from the `parent` class, and also allows `extra` methods to be defined."
   ]
  },
  {
   "cell_type": "code",
   "execution_count": 1,
   "metadata": {
    "colab": {
     "base_uri": "https://localhost:8080/",
     "height": 51
    },
    "colab_type": "code",
    "executionInfo": {
     "elapsed": 856,
     "status": "ok",
     "timestamp": 1564915908223,
     "user": {
      "displayName": "",
      "photoUrl": "",
      "userId": ""
     },
     "user_tz": -270
    },
    "id": "womfBciYPT0h",
    "outputId": "adad1905-2ccc-4287-bd88-26ba214f5ff2"
   },
   "outputs": [
    {
     "name": "stdout",
     "output_type": "stream",
     "text": [
      "12\n",
      "9\n"
     ]
    }
   ],
   "source": [
    "# Parent class Shape\n",
    "class Shape:\n",
    "  def __init__(self, x, y):\n",
    "    self.x = x\n",
    "    self.y = y\n",
    "    \n",
    "  def get_area(self):\n",
    "    return self.x * self.y\n",
    "  \n",
    "# Inherited class Square\n",
    "class Square (Shape):\n",
    "  def __init__(self, x):\n",
    "    self.x = x\n",
    "    self.y = x\n",
    "    \n",
    "  def get_perimeter(self):\n",
    "    return self.x * 4\n",
    "  \n",
    "\n",
    "sq = Square(3)\n",
    "print(sq.get_perimeter())\n",
    "print(sq.get_area())"
   ]
  },
  {
   "cell_type": "code",
   "execution_count": 2,
   "metadata": {
    "colab": {
     "base_uri": "https://localhost:8080/",
     "height": 68
    },
    "colab_type": "code",
    "executionInfo": {
     "elapsed": 746,
     "status": "ok",
     "timestamp": 1564915917053,
     "user": {
      "displayName": "",
      "photoUrl": "",
      "userId": ""
     },
     "user_tz": -270
    },
    "id": "DbXlusFtQO0p",
    "outputId": "5c3aa346-ccc1-4b1a-8713-d7113f0a8362"
   },
   "outputs": [
    {
     "name": "stdout",
     "output_type": "stream",
     "text": [
      "True\n",
      "True\n",
      "True\n"
     ]
    }
   ],
   "source": [
    "# To check relationships\n",
    "print(isinstance(sq, Square))\n",
    "print(isinstance(sq, Shape))\n",
    "print(issubclass(Square, Shape))"
   ]
  },
  {
   "cell_type": "markdown",
   "metadata": {},
   "source": [
    "#### `Method Overriding`\n",
    "`Overriding` is to write a function in a child class, with exactly the same `name` and `parameter set` as in parent class, but with a different (customized) functionality."
   ]
  },
  {
   "cell_type": "code",
   "execution_count": 2,
   "metadata": {},
   "outputs": [
    {
     "name": "stdout",
     "output_type": "stream",
     "text": [
      "I am an animal.\n"
     ]
    }
   ],
   "source": [
    "# Parent class\n",
    "class Animal:\n",
    "    def identify(self):\n",
    "        print(\"I am an animal.\")\n",
    "        \n",
    "# Child class\n",
    "class Bird(Animal):\n",
    "    def identify(self):\n",
    "        print(\"I am a bird.\")\n",
    "        \n",
    "# Animal instance\n",
    "animal_obj = Animal()\n",
    "animal_obj.identify()"
   ]
  },
  {
   "cell_type": "code",
   "execution_count": 3,
   "metadata": {},
   "outputs": [
    {
     "name": "stdout",
     "output_type": "stream",
     "text": [
      "I am a bird.\n"
     ]
    }
   ],
   "source": [
    "# Bird instance\n",
    "bird_obj = Bird()\n",
    "bird_obj.identify()"
   ]
  }
 ],
 "metadata": {
  "colab": {
   "name": "Copy of basics.ipynb",
   "provenance": [
    {
     "file_id": "https://github.com/aligholami/IPM-SS-2019/blob/master/python-workshop/s8-classes/basics.ipynb",
     "timestamp": 1564916263402
    }
   ],
   "version": "0.3.2"
  },
  "kernelspec": {
   "display_name": "Python 3",
   "language": "python",
   "name": "python3"
  },
  "language_info": {
   "codemirror_mode": {
    "name": "ipython",
    "version": 3
   },
   "file_extension": ".py",
   "mimetype": "text/x-python",
   "name": "python",
   "nbconvert_exporter": "python",
   "pygments_lexer": "ipython3",
   "version": "3.6.8"
  }
 },
 "nbformat": 4,
 "nbformat_minor": 1
}
