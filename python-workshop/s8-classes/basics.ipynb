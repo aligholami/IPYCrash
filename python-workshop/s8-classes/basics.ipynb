{
 "cells": [
  {
   "cell_type": "markdown",
   "metadata": {},
   "source": [
    "# Classes.\n",
    "Classes are used to define any entity with certain attributes and behaviors. Classes encapsulate `variables` and `methods` in a single entity.\n",
    "Classes follow Python's block structure and are defined using the `class` keyword.\n",
    "```\n",
    "class Organization:\n",
    "    name = 'IPM'\n",
    "```\n",
    "A `class object` can be created by `instantiating` from a class:\n",
    "```\n",
    "    obj_1 = Organization()\n",
    "    obj_2 = Organization()\n",
    "```\n",
    "Classes like these are quite boring. We can use `__init__()` function to initialize variables inside a class, everytime an object is created. `self` represents the current instance of the class (which is running). `self` is required as the first argument in all methods inside a class."
   ]
  },
  {
   "cell_type": "code",
   "execution_count": 4,
   "metadata": {},
   "outputs": [
    {
     "name": "stdout",
     "output_type": "stream",
     "text": [
      "IPM\n",
      "Sharif\n"
     ]
    }
   ],
   "source": [
    "class Organization:\n",
    "    def __init__(self, name):\n",
    "        self.name = name\n",
    "        \n",
    "ipm_obj = Organization('IPM')\n",
    "sharif_obj = Organization('Sharif')\n",
    "print(ipm_obj.name)\n",
    "print(sharif_obj.name)"
   ]
  }
 ],
 "metadata": {
  "kernelspec": {
   "display_name": "Python 3",
   "language": "python",
   "name": "python3"
  },
  "language_info": {
   "codemirror_mode": {
    "name": "ipython",
    "version": 3
   },
   "file_extension": ".py",
   "mimetype": "text/x-python",
   "name": "python",
   "nbconvert_exporter": "python",
   "pygments_lexer": "ipython3",
   "version": "3.6.8"
  }
 },
 "nbformat": 4,
 "nbformat_minor": 2
}
