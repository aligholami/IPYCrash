{
 "cells": [
  {
   "cell_type": "markdown",
   "metadata": {},
   "source": [
    "# Functions.\n",
    "\n",
    "#### `Definition`\n",
    "Functions allow you to split up your code into relevant blocks:\n",
    "* Ordered code\n",
    "* More readable code\n",
    "Functions in Python abide by Python's standard block syntax:\n",
    "```\n",
    "block-head:\n",
    "    block line 1\n",
    "    block line 2\n",
    "```\n",
    "Functions are defined using the `def` keyword, and follow Python's block syntax:\n",
    "```\n",
    "def new_function():\n",
    "    print('Function defined!\")\n",
    "```\n",
    "\n",
    "#### `Calling`\n",
    "To call a function in Python, you write the function name following by brackets `()`.\n",
    "```\n",
    "new_function()\n",
    "```"
   ]
  },
  {
   "cell_type": "code",
   "execution_count": 3,
   "metadata": {},
   "outputs": [
    {
     "name": "stdout",
     "output_type": "stream",
     "text": [
      "8\n"
     ]
    }
   ],
   "source": [
    "def power(num, p):\n",
    "    result = 1\n",
    "    for p_time in range(p):\n",
    "        result *= num\n",
    "    \n",
    "    return result\n",
    "\n",
    "print(power(2, 3))"
   ]
  }
 ],
 "metadata": {
  "kernelspec": {
   "display_name": "Python 3",
   "language": "python",
   "name": "python3"
  },
  "language_info": {
   "codemirror_mode": {
    "name": "ipython",
    "version": 3
   },
   "file_extension": ".py",
   "mimetype": "text/x-python",
   "name": "python",
   "nbconvert_exporter": "python",
   "pygments_lexer": "ipython3",
   "version": "3.6.8"
  }
 },
 "nbformat": 4,
 "nbformat_minor": 2
}
