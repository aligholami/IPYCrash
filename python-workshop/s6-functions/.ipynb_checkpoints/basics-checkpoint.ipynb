{
 "cells": [
  {
   "cell_type": "markdown",
   "metadata": {},
   "source": [
    "# Functions.\n",
    "\n",
    "#### `Definition`\n",
    "Functions allow you to split up your code into relevant blocks:\n",
    "* Ordered code\n",
    "* More readable code\n",
    "Functions in Python abide by Python's standard block syntax:\n",
    "```\n",
    "block-head:\n",
    "    block line 1\n",
    "    block line 2\n",
    "```\n",
    "Functions are defined using the `def` keyword, and follow Python's block syntax:\n",
    "```\n",
    "def new_function():\n",
    "    print('Function defined!\")\n",
    "```\n",
    "\n",
    "#### `Calling`\n",
    "To call a function in Python, you write the function name following by brackets `()`.\n",
    "```\n",
    "new_function()\n",
    "```"
   ]
  },
  {
   "cell_type": "code",
   "execution_count": 1,
   "metadata": {},
   "outputs": [
    {
     "name": "stdout",
     "output_type": "stream",
     "text": [
      "8\n"
     ]
    }
   ],
   "source": [
    "def power(num, p):\n",
    "    result = 1\n",
    "    for p_time in range(p):\n",
    "        result *= num\n",
    "    \n",
    "    return result\n",
    "\n",
    "print(power(2, 3))"
   ]
  },
  {
   "cell_type": "markdown",
   "metadata": {},
   "source": [
    "#### `Arguments`\n",
    "Functions can be called using any of the following types of arguments:\n",
    "* Required arguments\n",
    "* Keyword arguments\n",
    "* Default arguments"
   ]
  },
  {
   "cell_type": "code",
   "execution_count": 2,
   "metadata": {},
   "outputs": [
    {
     "name": "stdout",
     "output_type": "stream",
     "text": [
      "Name:  Sepand\n",
      "Age:  26\n",
      "Gender:  male\n"
     ]
    }
   ],
   "source": [
    "def get_person_info(name, age, gender):\n",
    "    print('Name: ', name)\n",
    "    print('Age: ', age)\n",
    "    print('Gender: ', gender)\n",
    "    \n",
    "n = 'Sepand'\n",
    "a = 26\n",
    "g = 'male'\n",
    "# Required (ordered) arguments\n",
    "get_person_info(n, a, g)"
   ]
  },
  {
   "cell_type": "code",
   "execution_count": 3,
   "metadata": {},
   "outputs": [
    {
     "name": "stdout",
     "output_type": "stream",
     "text": [
      "Name:  Sepand\n",
      "Age:  26\n",
      "Gender:  male\n"
     ]
    }
   ],
   "source": [
    "# Keyword arguments\n",
    "get_person_info(gender=g, name=n, age=a)"
   ]
  },
  {
   "cell_type": "code",
   "execution_count": 4,
   "metadata": {},
   "outputs": [
    {
     "name": "stdout",
     "output_type": "stream",
     "text": [
      "Name:  Sepand\n",
      "Age:  26\n",
      "Gender:  male\n"
     ]
    }
   ],
   "source": [
    "def get_person_info(name, gender, age=26):\n",
    "    print('Name: ', name)\n",
    "    print('Age: ', age)\n",
    "    print('Gender: ', gender)\n",
    "\n",
    "# Keyword arguments\n",
    "get_person_info(n, g)"
   ]
  },
  {
   "cell_type": "markdown",
   "metadata": {},
   "source": [
    "#### `Return Statement`\n",
    "Python's `return` statement exits a function and passed back an expresion to the function caller. It is used to return the `flow of control` with an `output result` to the function call.\n",
    "\n",
    "* All Python functions implicitly contain a `return None` statement at the end unless you have written your return statement."
   ]
  },
  {
   "cell_type": "markdown",
   "metadata": {},
   "source": [
    "#### `Nested Functions`\n",
    "Functions can be defined within the scope of other functions; they are called `nested functions`. Nested functions are used to create isolated (can't be accessed from outside) argument specific algorithms. The main reason for using `nested functions` is `encapsulation`.\n",
    "\n",
    "* `Encapsulation` is one of the fundamentals of OOP (object-oriented programming). It refers to the bundling of data with the methods that operate on that data. Encapsulation is used to hide the values or state of a structured data object inside a class, preventing unauthorized parties' direct access to them."
   ]
  },
  {
   "cell_type": "code",
   "execution_count": 9,
   "metadata": {},
   "outputs": [
    {
     "name": "stdout",
     "output_type": "stream",
     "text": [
      "5 7\n"
     ]
    }
   ],
   "source": [
    "def outer_function(x):\n",
    "    # Hidden from the outer code\n",
    "    def inner_increment(x):\n",
    "        return x + 2\n",
    "    y = inner_increment(x)\n",
    "    print(x, y)\n",
    "\n",
    "# inner_increment(5)\n",
    "outer_function(5)"
   ]
  }
 ],
 "metadata": {
  "kernelspec": {
   "display_name": "Python 3",
   "language": "python",
   "name": "python3"
  },
  "language_info": {
   "codemirror_mode": {
    "name": "ipython",
    "version": 3
   },
   "file_extension": ".py",
   "mimetype": "text/x-python",
   "name": "python",
   "nbconvert_exporter": "python",
   "pygments_lexer": "ipython3",
   "version": "3.6.8"
  }
 },
 "nbformat": 4,
 "nbformat_minor": 2
}
