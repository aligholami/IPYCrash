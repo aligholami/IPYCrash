{
 "cells": [
  {
   "cell_type": "markdown",
   "metadata": {},
   "source": [
    "# Functions.\n",
    "\n",
    "#### `Definition`\n",
    "Functions allow you to split up your code into relevant blocks:\n",
    "* Ordered code\n",
    "* More readable code\n",
    "Functions in Python abide by Python's standard block syntax:\n",
    "```\n",
    "block-head:\n",
    "    block line 1\n",
    "    block line 2\n",
    "```\n",
    "Functions are defined using the `def` keyword, and follow Python's block syntax:\n",
    "```\n",
    "def new_function():\n",
    "    print('Function defined!\")\n",
    "```\n",
    "\n",
    "#### `Calling`\n",
    "To call a function in Python, you write the function name following by brackets `()`.\n",
    "```\n",
    "new_function()\n",
    "```"
   ]
  },
  {
   "cell_type": "code",
   "execution_count": 3,
   "metadata": {},
   "outputs": [
    {
     "name": "stdout",
     "output_type": "stream",
     "text": [
      "8\n"
     ]
    }
   ],
   "source": [
    "def power(num, p):\n",
    "    result = 1\n",
    "    for p_time in range(p):\n",
    "        result *= num\n",
    "    \n",
    "    return result\n",
    "\n",
    "print(power(2, 3))"
   ]
  },
  {
   "cell_type": "markdown",
   "metadata": {},
   "source": [
    "#### `arguments`\n",
    "Functions can be called using any of the following types of arguments:\n",
    "* Required arguments\n",
    "* Keyword arguments\n",
    "* Default arguments"
   ]
  },
  {
   "cell_type": "code",
   "execution_count": 6,
   "metadata": {},
   "outputs": [
    {
     "name": "stdout",
     "output_type": "stream",
     "text": [
      "Name:  Sepand\n",
      "Age:  26\n",
      "Gender:  male\n"
     ]
    }
   ],
   "source": [
    "def get_person_info(name, age, gender):\n",
    "    print('Name: ', name)\n",
    "    print('Age: ', age)\n",
    "    print('Gender: ', gender)\n",
    "    \n",
    "n = 'Sepand'\n",
    "a = 26\n",
    "g = 'male'\n",
    "# Required (ordered) arguments\n",
    "get_person_info(n, a, g)"
   ]
  },
  {
   "cell_type": "code",
   "execution_count": 8,
   "metadata": {},
   "outputs": [
    {
     "name": "stdout",
     "output_type": "stream",
     "text": [
      "Name:  Sepand\n",
      "Age:  26\n",
      "Gender:  male\n"
     ]
    }
   ],
   "source": [
    "# Keyword arguments\n",
    "get_person_info(gender=g, name=n, age=a)"
   ]
  }
 ],
 "metadata": {
  "kernelspec": {
   "display_name": "Python 3",
   "language": "python",
   "name": "python3"
  },
  "language_info": {
   "codemirror_mode": {
    "name": "ipython",
    "version": 3
   },
   "file_extension": ".py",
   "mimetype": "text/x-python",
   "name": "python",
   "nbconvert_exporter": "python",
   "pygments_lexer": "ipython3",
   "version": "3.6.8"
  }
 },
 "nbformat": 4,
 "nbformat_minor": 2
}
