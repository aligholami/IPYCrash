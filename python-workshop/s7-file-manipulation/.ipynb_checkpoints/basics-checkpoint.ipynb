{
 "cells": [
  {
   "cell_type": "markdown",
   "metadata": {},
   "source": [
    "# File Manipulation.\n",
    "### `I/O Functions`\n",
    "`I/O` (input/output) stands for the comminucation between a `data processing system` such as a computer, or any device, and the `outside world`.\n",
    "\n",
    "* Python provideds numerous out-of-the-box functions for `I/O` communication, making the interactions fairly easy.\n",
    "\n",
    "* The most basic output function in Python is `print()`. Any argument passed to `print()` will be converted to strings and they will be outputed to the `stdout`."
   ]
  },
  {
   "cell_type": "markdown",
   "metadata": {},
   "source": [
    "For managing user input, `Python 3` provides a built-in function called `input()`. When using this function the program is paused and waits until the user finishes his input."
   ]
  },
  {
   "cell_type": "code",
   "execution_count": 1,
   "metadata": {},
   "outputs": [
    {
     "name": "stdout",
     "output_type": "stream",
     "text": [
      "Please enter your input: Hello World!\n",
      "The input is:  Hello World!\n"
     ]
    }
   ],
   "source": [
    "user_input = input('Please enter your input: ')\n",
    "print(\"The input is: \", user_input)"
   ]
  },
  {
   "cell_type": "markdown",
   "metadata": {},
   "source": [
    "#### `Handling User Input`\n",
    "The `input` of the user will be returned as a `string` without any additional changes. If this `raw input` has to be transformed into another `data type` needed by the program, there are two ways to do this:\n",
    "1. `Casting Functions`: Directly converts a string to desired data type (int, float, etc.)\n",
    "2. `Eval Function`: Interprets strings as Python code and evaluates it"
   ]
  },
  {
   "cell_type": "code",
   "execution_count": null,
   "metadata": {},
   "outputs": [],
   "source": [
    "# User's favorite colors (check input with list and tuple)\n",
    "fav_colors = eval(input('Favorite Colors'))\n",
    "print(fav_colors, type(fav_colors))"
   ]
  }
 ],
 "metadata": {
  "kernelspec": {
   "display_name": "Python 3",
   "language": "python",
   "name": "python3"
  },
  "language_info": {
   "codemirror_mode": {
    "name": "ipython",
    "version": 3
   },
   "file_extension": ".py",
   "mimetype": "text/x-python",
   "name": "python",
   "nbconvert_exporter": "python",
   "pygments_lexer": "ipython3",
   "version": "3.6.8"
  }
 },
 "nbformat": 4,
 "nbformat_minor": 2
}
