{
 "cells": [
  {
   "cell_type": "markdown",
   "metadata": {},
   "source": [
    "# File Manipulation.\n",
    "### `I/O Functions`\n",
    "`I/O` (input/output) stands for the comminucation between a `data processing system` such as a computer, or any device, and the `outside world`.\n",
    "\n",
    "* Python provideds numerous out-of-the-box functions for `I/O` communication, making the interactions fairly easy.\n",
    "\n",
    "* The most basic output function in Python is `print()`. Any argument passed to `print()` will be converted to strings and they will be outputed to the `stdout`."
   ]
  },
  {
   "cell_type": "markdown",
   "metadata": {},
   "source": [
    "For managing user input, `Python 3` provides a built-in function called `input()`. When using this function the program is paused and waits until the user finishes his input."
   ]
  },
  {
   "cell_type": "code",
   "execution_count": 1,
   "metadata": {},
   "outputs": [
    {
     "name": "stdout",
     "output_type": "stream",
     "text": [
      "Please enter your input: Hello World!\n",
      "The input is:  Hello World!\n"
     ]
    }
   ],
   "source": [
    "user_input = input('Please enter your input: ')\n",
    "print(\"The input is: \", user_input)"
   ]
  },
  {
   "cell_type": "markdown",
   "metadata": {},
   "source": [
    "#### `Handling User Input`\n",
    "The `input` of the user will be returned as a `string` without any additional changes. If this `raw input` has to be transformed into another `data type` needed by the program, there are two ways to do this:\n",
    "1. `Casting Functions`: Directly converts a string to desired data type (int, float, etc.)\n",
    "2. `Eval Function`: Interprets strings as Python code and evaluates it"
   ]
  },
  {
   "cell_type": "code",
   "execution_count": null,
   "metadata": {},
   "outputs": [],
   "source": [
    "# User's favorite colors (check input with list and tuple)\n",
    "fav_colors = eval(input('Favorite Colors'))\n",
    "print(fav_colors, type(fav_colors))"
   ]
  },
  {
   "cell_type": "markdown",
   "metadata": {},
   "source": [
    "### `File Objects`\n",
    "Reading from and writing to files in Python 3 can easily be done using the `open()` function. This will create a `file` object, which can be used to call other support methods associated with it.\n",
    "\n",
    "```\n",
    "file_object = open(file_path, [access_mode], [buffering])\n",
    "```\n",
    "* `file_path`: String value containing a path to the file\n",
    "* `access_mode`: The mode in which the file has to be opened (`read`, `write` or `append`)\n",
    "* `buffering`: `0` is `no buffering`, `1` is `line buffering` and value `greater than 1` is considered the buffer's size (in bytes).\n",
    "\n",
    "#### `Supported Modes`\n",
    "1. `a`: Opens the file for `appending`, with the file pointer being at the end of the file.\n",
    "2. `r`: Opens the file for `reading`, with the file pointer being at the beginning of the file.\n",
    "3. `w`: Opens the file for `writing`. **Overwrites the file if it exists**. **Creates a new file if it does not exist**.\n",
    "4. `a+`: Opens the file for both `reading` and `appending`, with the file pointer being at the end of the file.\n",
    "5. `w+`: Opens the file for both `reading` and `appending`, with the file pointer being at the end of the file. **Overwrites the file if it exists**. **Creates a new file if it does not exist**.\n",
    "6. `ab/rb/wb`: Opens the file for `appending`, `reading` or `writing` in **binary format**.\n",
    "\n",
    "#### `File Object Attributes`\n",
    "1. `file.closed`: returns `true` if file is closed and `false` otherwise\n",
    "2. `file.mode`: returns which `mode` the file was opened in\n",
    "3. `file.name`: returns the name of the file \n",
    "\n",
    "#### `Opening File Objects`\n"
   ]
  },
  {
   "cell_type": "code",
   "execution_count": 2,
   "metadata": {},
   "outputs": [
    {
     "name": "stdout",
     "output_type": "stream",
     "text": [
      "File is opened in w mode.\n"
     ]
    }
   ],
   "source": [
    "f_obj = open('doc.txt', 'w')\n",
    "print(\"File is opened in {} mode.\".format(f_obj.mode))"
   ]
  },
  {
   "cell_type": "markdown",
   "metadata": {},
   "source": [
    "#### `Reading from Files`\n",
    "After opening a `file object`, there are three operations available in Python for reading files:\n",
    "1. `read()`: Reads and returns a file content in a string.\n",
    "2. `readline()`: Reads and returns a new line of file, with every new call. A `line` is defined as all characters until the `end of line character` which is `\\n`.\n",
    "3. `readlines()`: Reads and returns all lines in a file as a list."
   ]
  },
  {
   "cell_type": "code",
   "execution_count": 8,
   "metadata": {},
   "outputs": [
    {
     "name": "stdout",
     "output_type": "stream",
     "text": [
      "Welcome to the IPM.\n",
      "\n",
      "We are happy to have you here,\n",
      "\n",
      "Wish you the best luck.\n",
      "\n"
     ]
    }
   ],
   "source": [
    "f_obj = open('doc.txt', 'r')\n",
    "\n",
    "# Read the first line\n",
    "print(f_obj.readline())\n",
    "\n",
    "# Read the second line\n",
    "print(f_obj.readline())\n",
    "\n",
    "# Read the third line\n",
    "print(f_obj.readline())"
   ]
  },
  {
   "cell_type": "code",
   "execution_count": 10,
   "metadata": {},
   "outputs": [
    {
     "name": "stdout",
     "output_type": "stream",
     "text": [
      "Welcome to the IPM.\n",
      "We are happy to have you here,\n",
      "Wish you the best luck.\n",
      "\n"
     ]
    }
   ],
   "source": [
    "# Reading the whole file in a single string\n",
    "f_obj.seek(0)\n",
    "print(f_obj.read())"
   ]
  },
  {
   "cell_type": "markdown",
   "metadata": {},
   "source": [
    "#### `Writing to Files`\n",
    "Writing to a file can be done via `write()` function. Remember that we need to open a file before we can write into it. remember how `open()` works:\n",
    "* If we open an already existing file in mode `w`, it will be overwritten.\n",
    "* If the file doesn't exist, it will be created."
   ]
  },
  {
   "cell_type": "code",
   "execution_count": 14,
   "metadata": {},
   "outputs": [
    {
     "name": "stdout",
     "output_type": "stream",
     "text": [
      "Whether you think you can, or you think you can't,\n",
      "you're right.\n"
     ]
    }
   ],
   "source": [
    "f_path = 'new_doc.txt'\n",
    "f_obj = open(f_path, 'w+')\n",
    "string_to_write = \"Whether you think you can, or you think you can't,\\nyou're right.\"\n",
    "f_obj.write(string_to_write)\n",
    "f_obj.seek(0)\n",
    "print(f_obj.read())"
   ]
  },
  {
   "cell_type": "markdown",
   "metadata": {},
   "source": [
    "#### `Closing the Files`\n",
    "Remember that all files should be closed to preserve `resources` (ram space, cpu clock, etc.) after finishing working with them."
   ]
  },
  {
   "cell_type": "code",
   "execution_count": 15,
   "metadata": {},
   "outputs": [],
   "source": [
    "f_obj.close()"
   ]
  }
 ],
 "metadata": {
  "kernelspec": {
   "display_name": "Python 3",
   "language": "python",
   "name": "python3"
  },
  "language_info": {
   "codemirror_mode": {
    "name": "ipython",
    "version": 3
   },
   "file_extension": ".py",
   "mimetype": "text/x-python",
   "name": "python",
   "nbconvert_exporter": "python",
   "pygments_lexer": "ipython3",
   "version": "3.6.8"
  }
 },
 "nbformat": 4,
 "nbformat_minor": 2
}
